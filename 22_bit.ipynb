{
  "nbformat": 4,
  "nbformat_minor": 0,
  "metadata": {
    "colab": {
      "provenance": [],
      "authorship_tag": "ABX9TyNS8ssT0EV/iZb5dR9uPy+F",
      "include_colab_link": true
    },
    "kernelspec": {
      "name": "python3",
      "display_name": "Python 3"
    },
    "language_info": {
      "name": "python"
    }
  },
  "cells": [
    {
      "cell_type": "markdown",
      "metadata": {
        "id": "view-in-github",
        "colab_type": "text"
      },
      "source": [
        "<a href=\"https://colab.research.google.com/github/bit-panupat/Project-1_Coding/blob/main/22_bit.ipynb\" target=\"_parent\"><img src=\"https://colab.research.google.com/assets/colab-badge.svg\" alt=\"Open In Colab\"/></a>"
      ]
    },
    {
      "cell_type": "markdown",
      "source": [
        "เลขที่ 22 บิต ภานุภัทร เจ๊ะสะเเละ\n",
        "# No.22 Bit Panupat jaesalae"
      ],
      "metadata": {
        "id": "d9nxuLPt-f3R"
      }
    },
    {
      "cell_type": "markdown",
      "source": [],
      "metadata": {
        "id": "9IJt1bTIRAFu"
      }
    },
    {
      "cell_type": "markdown",
      "source": [
        "5/6/67\n",
        "#index ที่เริ่มจาก 0 ก็จะเป็นตัวเลข ในภาษาโค้ด ระบบนั้นจะเริ่มด้วยเลข 0 เป็นตัวเลข เเละถ้าคำว่า Python มี6ตัว ในจำนวนเต็ม จะเริ่มจาก 0-5 เเต่ถ้าจะใส่ติดลบต้องเริ่มจาก (-6) - (-1)\n",
        "\n",
        "\n",
        "\n",
        "\n",
        "\n",
        "*   input คือการรับคำสั่ง เช่น string1 = 'Phython'\n",
        "*   process  คือการประมวณผลข้อมูลที่ได้รับเข้าไป เช่น print(string1 [0] )\n",
        "*   output คือการเเสดงคำสั่ง สิ่งที่ประมวลผล เช่นตัวอย่าง = P\n",
        "\n",
        "\n",
        "\n",
        "\n",
        "\n"
      ],
      "metadata": {
        "id": "NpsaEZ1nWe1t"
      }
    },
    {
      "cell_type": "markdown",
      "source": [
        "1/7/67\n"
      ],
      "metadata": {
        "id": "Mz9tvm3TRhut"
      }
    },
    {
      "cell_type": "code",
      "source": [
        "long=int(input(\"ความกว้าง(ชม.)คือ\"))\n",
        "lenght=int(input(\"ความยาว(ชม.)คือ\"))\n",
        "area=long*lenghtintin\n",
        "print(\"พื้นที่สี่เหลี่ยมผืนผ้า เท่ากับ \",area,\"ตร.ชม\")"
      ],
      "metadata": {
        "colab": {
          "base_uri": "https://localhost:8080/"
        },
        "id": "jJc9oyXlRxPd",
        "outputId": "a78bde1f-8cc5-440d-cf42-d6fd1da30609"
      },
      "execution_count": null,
      "outputs": [
        {
          "output_type": "stream",
          "name": "stdout",
          "text": [
            "ความกว้าง(ชม.)คือ6\n",
            "ความยาว(ชม.)คือ49\n",
            "พื้นที่สี่เหลี่ยมผืนผ้า เท่ากับ  294 ตร.ชม\n"
          ]
        }
      ]
    },
    {
      "cell_type": "code",
      "source": [
        "s=int(input(\"ระยะทางที่ผ่านมาในกิโลเมตร\"))\n",
        "t=int(input(\"ระยะเวลาที่ผ่านมาในวินาที\"))\n",
        "v=s/t\n",
        "print(\"ความเร็วที่ผ่านมา\",t,\"กิโลเมตร/วินาที\")"
      ],
      "metadata": {
        "colab": {
          "base_uri": "https://localhost:8080/"
        },
        "id": "CIJPh45ZVuaF",
        "outputId": "74f000ef-45d8-416d-b1fd-43bbf3ac5080"
      },
      "execution_count": null,
      "outputs": [
        {
          "output_type": "stream",
          "name": "stdout",
          "text": [
            "ระยะทางที่ผ่านมาในกิโลเมตร5\n",
            "ระยะเวลาที่ผ่านมาในวินาที2\n",
            "ความเร็วที่ผ่านมา 2 กิโลเมตร/วินาที\n"
          ]
        }
      ]
    },
    {
      "cell_type": "code",
      "source": [
        "weight=float(input(\"\\nน้ำหนัก (กก.) คือ \"))\n",
        "height=float(input(\"ส่วนสูง (ซม.) คือ  \"))\n",
        "BMI=weight/height**2\n",
        "\n",
        "print(\"\\nค่า BMI ของคุณ คือ \", BMI)\n"
      ],
      "metadata": {
        "colab": {
          "base_uri": "https://localhost:8080/"
        },
        "id": "1lU-PuR8fB1z",
        "outputId": "14835c31-d0ce-4a98-a790-ee4026a4e335"
      },
      "execution_count": null,
      "outputs": [
        {
          "output_type": "stream",
          "name": "stdout",
          "text": [
            "\n",
            "น้ำหนัก (กก.) คือ 50\n",
            "ส่วนสูง (ซม.) คือ  1.50\n",
            "\n",
            "ค่า BMI ของคุณ คือ  22.22222222222222\n"
          ]
        }
      ]
    },
    {
      "cell_type": "code",
      "source": [
        "print(\"คำนวณค่าดัชนีมวลกายเพื่อสุขภาพ ver 1.1\")\n",
        "\n",
        "weight=float(input(\"\\nน้ำหนัก(กก.)คือ\"))\n",
        "height=float(input(\"ส่วนสูง(ซม.)คือ\"))\n",
        "BMI=weight/height**2\n",
        "\n",
        "print(\"\\nค่า BMI ของคุณ คือ \", BMI)\n",
        "\n",
        "print(\"จัดทำโดย บิต\")"
      ],
      "metadata": {
        "id": "XXN4JKa3fKHc"
      },
      "execution_count": null,
      "outputs": []
    },
    {
      "cell_type": "code",
      "source": [
        "print(\"คำนวณค่าดัชนีมวลกายเพื่อสุขภาพ Ver.1.2\")\n",
        "\n",
        "name=input(\"\\nสวัสดีครับ ชื่อของคุณ คือ \")\n",
        "print(\"ยินดีต้อนรับครับ คุณ\", name)\n",
        "\n",
        "weight=float(input(\"\\nน้ำหนัก(กก.)คือ\"))\n",
        "height=float(input(\"ส่วนสูง(ซม.)คือ\"))\n",
        "BMI=weight/height**2\n",
        "\n",
        "print(\"\\nค่า BMI ของคุณ คือ \", BMI)\n",
        "\n",
        "print(\"จัดทำโดย บิต\")\n",
        "\n"
      ],
      "metadata": {
        "colab": {
          "base_uri": "https://localhost:8080/"
        },
        "id": "g83VSeAhZE2t",
        "outputId": "ba1edbae-db81-412a-8196-c2aa200cb2db"
      },
      "execution_count": null,
      "outputs": [
        {
          "output_type": "stream",
          "name": "stdout",
          "text": [
            "คำนวณค่าดัชนีมวลกายเพื่อสุขภาพ\n",
            "\n",
            "สวัสดีครับ ชื่อของคุณ คือ n\n",
            "ยินดีต้อนรับครับ คุณ n\n",
            "\n",
            "น้ำหนัก(กก.)คือ50\n",
            "ส่วนสูง(ซม.)คือ1.50\n",
            "\n",
            "ค่า BMI ของคุณ คือ  22.22222222222222\n",
            "จัดทำโดย บิต\n"
          ]
        }
      ]
    },
    {
      "cell_type": "code",
      "source": [
        "string1 = 'Python'\n",
        "print(string1[0])"
      ],
      "metadata": {
        "colab": {
          "base_uri": "https://localhost:8080/"
        },
        "id": "DvYM_R95Z32n",
        "outputId": "d0eb1469-3e87-4a48-a698-a506aac1002b"
      },
      "execution_count": null,
      "outputs": [
        {
          "output_type": "stream",
          "name": "stdout",
          "text": [
            "P\n"
          ]
        }
      ]
    },
    {
      "cell_type": "markdown",
      "source": [
        "29/05/67\n"
      ],
      "metadata": {
        "id": "Zed72WzgZLpj"
      }
    },
    {
      "cell_type": "code",
      "source": [],
      "metadata": {
        "id": "tYzz_AKcezAH"
      },
      "execution_count": null,
      "outputs": []
    },
    {
      "cell_type": "markdown",
      "source": [
        "-เรื่องตัวเเปรว่าใช้อย่างไร\n",
        "-ตัวเเปรต้องใช้ภาษาอังกฤษ\n",
        "-ตัวเเปรห้ามมีตัวเลข\n",
        "-สามารถใช้คำสั่ง type() เเล้วใส่ตัวเเปรจะทราบชนิดของตัวเเปร\n",
        "-การเขียน print\n"
      ],
      "metadata": {
        "id": "U6Tzlz4oj3R2"
      }
    },
    {
      "cell_type": "code",
      "source": [
        "a = 2\n",
        "b = 1.5\n",
        "c = \"m.4/4\"\n",
        "\n",
        "type(c)\n",
        "\n",
        "print(\"b\")\n",
        "\n"
      ],
      "metadata": {
        "colab": {
          "base_uri": "https://localhost:8080/"
        },
        "id": "DbcF6syxZYNr",
        "outputId": "b810d79d-4571-42da-c2ac-b2cc8cd44f64"
      },
      "execution_count": null,
      "outputs": [
        {
          "output_type": "stream",
          "name": "stdout",
          "text": [
            "b\n"
          ]
        }
      ]
    },
    {
      "cell_type": "code",
      "source": [
        "numeric1 = 5\n",
        "\n",
        "print(numeric1)\n",
        "\n",
        "type(numeric1)"
      ],
      "metadata": {
        "colab": {
          "base_uri": "https://localhost:8080/"
        },
        "id": "ljVtSBOJkQcX",
        "outputId": "379a4b60-8293-43ca-f951-de6835ce6255"
      },
      "execution_count": null,
      "outputs": [
        {
          "output_type": "stream",
          "name": "stdout",
          "text": [
            "5\n"
          ]
        },
        {
          "output_type": "execute_result",
          "data": {
            "text/plain": [
              "int"
            ]
          },
          "metadata": {},
          "execution_count": 11
        }
      ]
    },
    {
      "cell_type": "markdown",
      "source": [],
      "metadata": {
        "id": "wruMh5jbjpWg"
      }
    },
    {
      "cell_type": "markdown",
      "source": [
        "20/5/2024"
      ],
      "metadata": {
        "id": "bF796KlzAoxx"
      }
    },
    {
      "cell_type": "code",
      "execution_count": null,
      "metadata": {
        "colab": {
          "base_uri": "https://localhost:8080/"
        },
        "id": "eIAMKu9l-Yqe",
        "outputId": "8d614738-d51e-46ae-c908-4db7cf0562e1"
      },
      "outputs": [
        {
          "output_type": "stream",
          "name": "stdout",
          "text": [
            "สวัสดีครับบ บิตตต\n"
          ]
        }
      ],
      "source": [
        "print('สวัสดีครับบ บิตตต')"
      ]
    },
    {
      "cell_type": "code",
      "source": [
        "a=2\n",
        "b=3\n",
        "print('2+3=3+2=5')\n"
      ],
      "metadata": {
        "colab": {
          "base_uri": "https://localhost:8080/"
        },
        "id": "gyowHUSKGFqH",
        "outputId": "d8fb808e-4d8e-4286-d7c6-a73bb8d2eb0b"
      },
      "execution_count": null,
      "outputs": [
        {
          "output_type": "stream",
          "name": "stdout",
          "text": [
            "2+3=3+2=5\n"
          ]
        }
      ]
    }
  ]
}